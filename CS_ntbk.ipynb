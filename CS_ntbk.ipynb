{
 "cells": [
  {
   "cell_type": "markdown",
   "metadata": {},
   "source": [
    "# CS:GO Economy Simulation"
   ]
  },
  {
   "cell_type": "markdown",
   "metadata": {},
   "source": [
    "### Imports and Variable Initialization"
   ]
  },
  {
   "cell_type": "code",
   "execution_count": 72,
   "metadata": {},
   "outputs": [],
   "source": [
    "import importlib\n",
    "import CS_EcoAnalyzer as cs\n",
    "import matplotlib.pyplot as plt"
   ]
  },
  {
   "cell_type": "code",
   "execution_count": 73,
   "metadata": {},
   "outputs": [],
   "source": [
    "#!\\usr\\bin\\python\n",
    "\n",
    "\n",
    "market = {'AWP': 4750,\n",
    "          'AK47': 2700,\n",
    "          'M4A4': 3100,\n",
    "          'M4A1': 2900,\n",
    "          'Famas': 2050,\n",
    "          'Galil': 1800,\n",
    "          'Scout': 1700, \n",
    "          'Mag7': 1300, \n",
    "          'MP9': 1250,\n",
    "          'Mac10': 1050,\n",
    "          'Deagle': 700,\n",
    "          'P250': 300,\n",
    "          'Vesthelm': 1000,\n",
    "          'Vest': 650,\n",
    "          'Smoke': 300,\n",
    "          'Flash': 200,\n",
    "          'Molly': 400,\n",
    "          'HE': 300,\n",
    "          'Incendiary': 600,\n",
    "          'DefuseKit': 400\n",
    "         }\n",
    "          \n",
    "\n",
    "full_util_CT = market['Vesthelm'] + market['Smoke'] + market['Incendiary'] + market['Flash'] + market['HE'] + market['DefuseKit']\n",
    "even_util_CT = market['Vest'] + market['Smoke'] + market['Incendiary'] + market['Flash'] + market['HE'] + market['DefuseKit']\n",
    "light_util_CT = market['Vest'] + market['Smoke'] +  market['Flash']*2 +  market['DefuseKit'] \n",
    "\n",
    "ct_max_buy = market['AWP']*2 + market['M4A4']*3 + full_util_CT*5 - (market['Vesthelm']-market['Vest'])*2\n",
    "ct_even_buy =  market['AWP']*1 + market['M4A4']*2 + market['M4A1']*2+ even_util_CT*5 - market['Incendiary'] - market['DefuseKit']*2\n",
    "ct_light_buy = market['M4A4']*3 + market['Famas']*2 + light_util_CT*5  - market['DefuseKit']*3 + market['Incendiary']*3 \n",
    "\n",
    "full_util_T = market['Vesthelm']+market['Smoke']+market['Molly']+market['Flash']*2\n",
    "t_max_buy =  market['AWP']*1 + market['AK47']*4 + full_util_T*5\n",
    "t_even_buy = market['AK47']*5 + full_util_T*5\n",
    "t_light_buy = market['AK47']*2 + market['Galil']*3 + full_util_T*4 - market['Molly']*2\n",
    "\n",
    "t_win_lean = ct_even_buy/t_even_buy\n",
    "t_plant_lean = ct_even_buy/t_light_buy\n",
    "\n",
    "ct_buy_levels = [ct_max_buy/5, ct_even_buy/5, ct_light_buy/5]\n",
    "t_buy_levels = [t_max_buy/5, t_even_buy/5, t_light_buy/5]\n",
    "\n",
    "starting_money = 800\n",
    "starting_loss = 1\n",
    "force_percent = market['Vest']/starting_money\n",
    "\n",
    "eco_rules = {'starting_mny': starting_money,\n",
    "             'starting_loss': starting_loss,\n",
    "             'win_reward': 3250,\n",
    "             'loss_reward': 1400,\n",
    "             'loss_increment': 500,\n",
    "             'kill_reward': 300,\n",
    "             'plant_reward': 800,\n",
    "             'max_mny': 16000,\n",
    "             'max_loss': 5,\n",
    "             'market': market,\n",
    "             'ct_bl': ct_buy_levels, \n",
    "             't_bl': t_buy_levels,\n",
    "             't_win_lean': t_win_lean,\n",
    "             't_plant_lean': t_plant_lean,\n",
    "             'MR': 15,\n",
    "             # NO IDEA about these values, pure guesswork\n",
    "             'win_live_rate': .4, \n",
    "             'force_plant_odds': .2,\n",
    "             'ct_save_odds': .8,\n",
    "             'force_percent': force_percent\n",
    "            }\n",
    "            \n",
    "starting_gamestate = {'ct_mny': eco_rules['starting_mny'],\n",
    "                    'ct_loss':eco_rules['starting_loss'],\n",
    "                    't_mny':eco_rules['starting_mny'],\n",
    "                    't_loss':eco_rules['starting_loss'],\n",
    "                    't_wins':0,\n",
    "                    'rnds_played':0\n",
    "                   }  "
   ]
  },
  {
   "cell_type": "markdown",
   "metadata": {},
   "source": [
    "#### Simulating a single half and outputting the results of each round"
   ]
  },
  {
   "cell_type": "code",
   "execution_count": 74,
   "metadata": {},
   "outputs": [
    {
     "name": "stdout",
     "output_type": "stream",
     "text": [
      "Round  0 - \n",
      " {'result': 'T', 'CT_mnyinvest': 650.0, 'CT_buyoption': 'F', 'T_mnyinvest': 650.0, 'T_buyoption': 'F', 'gamestate': {'ct_mny': 2550.0, 'ct_loss': 2, 't_mny': 3960.0, 't_loss': 0, 't_wins': 1, 'rnds_played': 1}} \n",
      "\n",
      "Round  1 - \n",
      " {'result': 'T', 'CT_mnyinvest': 0, 'CT_buyoption': 'S', 'T_mnyinvest': 3680.0, 'T_buyoption': 'B', 'gamestate': {'ct_mny': 5450.0, 'ct_loss': 3, 't_mny': 5302.0, 't_loss': 0, 't_wins': 2, 'rnds_played': 2}} \n",
      "\n",
      "Round  2 - \n",
      " {'result': 'CT', 'CT_mnyinvest': 4550.0, 'CT_buyoption': 'B', 'T_mnyinvest': 5210.0, 'T_buyoption': 'B', 'gamestate': {'ct_mny': 6270.0, 'ct_loss': 2, 't_mny': 1992.0, 't_loss': 1, 't_wins': 2, 'rnds_played': 3}} \n",
      "\n",
      "Round  3 - \n",
      " {'result': 'CT', 'CT_mnyinvest': 5520.0, 'CT_buyoption': 'B', 'T_mnyinvest': 0, 'T_buyoption': 'S', 'gamestate': {'ct_mny': 6508.0, 'ct_loss': 1, 't_mny': 4392.0, 't_loss': 2, 't_wins': 2, 'rnds_played': 4}} \n",
      "\n",
      "Round  4 - \n",
      " {'result': 'CT_bp', 'CT_mnyinvest': 6420.0, 'CT_buyoption': 'B', 'T_mnyinvest': 3680.0, 'T_buyoption': 'B', 'gamestate': {'ct_mny': 6206.0, 'ct_loss': 0, 't_mny': 4412.0, 't_loss': 3, 't_wins': 2, 'rnds_played': 5}} \n",
      "\n",
      "Round  5 - \n",
      " {'result': 'T', 'CT_mnyinvest': 5520.0, 'CT_buyoption': 'B', 'T_mnyinvest': 3680.0, 'T_buyoption': 'B', 'gamestate': {'ct_mny': 2586.0, 'ct_loss': 1, 't_mny': 5754.0, 't_loss': 2, 't_wins': 3, 'rnds_played': 6}} \n",
      "\n",
      "Round  6 - \n",
      " {'result': 'T', 'CT_mnyinvest': 0, 'CT_buyoption': 'S', 'T_mnyinvest': 5210.0, 'T_buyoption': 'B', 'gamestate': {'ct_mny': 4986.0, 'ct_loss': 2, 't_mny': 6178.0, 't_loss': 1, 't_wins': 4, 'rnds_played': 7}} \n",
      "\n",
      "Round  7 - \n",
      " {'result': 'CT_bp', 'CT_mnyinvest': 4550.0, 'CT_buyoption': 'B', 'T_mnyinvest': 5210.0, 'T_buyoption': 'B', 'gamestate': {'ct_mny': 5806.0, 'ct_loss': 1, 't_mny': 4168.0, 't_loss': 2, 't_wins': 4, 'rnds_played': 8}} \n",
      "\n",
      "Round  8 - \n",
      " {'result': 'CT_bp', 'CT_mnyinvest': 5520.0, 'CT_buyoption': 'B', 'T_mnyinvest': 3680.0, 'T_buyoption': 'B', 'gamestate': {'ct_mny': 6044.0, 'ct_loss': 0, 't_mny': 4188.0, 't_loss': 3, 't_wins': 4, 'rnds_played': 9}} \n",
      "\n",
      "Round  9 - \n",
      " {'result': 'CT_bp', 'CT_mnyinvest': 5520.0, 'CT_buyoption': 'B', 'T_mnyinvest': 3680.0, 'T_buyoption': 'B', 'gamestate': {'ct_mny': 6282.0, 'ct_loss': 0, 't_mny': 4708.0, 't_loss': 4, 't_wins': 4, 'rnds_played': 10}} \n",
      "\n",
      "Round  10 - \n",
      " {'result': 'CT_bp', 'CT_mnyinvest': 5520.0, 'CT_buyoption': 'B', 'T_mnyinvest': 3680.0, 'T_buyoption': 'B', 'gamestate': {'ct_mny': 6520.0, 'ct_loss': 0, 't_mny': 5728.0, 't_loss': 5, 't_wins': 4, 'rnds_played': 11}} \n",
      "\n",
      "Round  11 - \n",
      " {'result': 'T_s', 'CT_mnyinvest': 6420.0, 'CT_buyoption': 'B', 'T_mnyinvest': 5210.0, 'T_buyoption': 'B', 'gamestate': {'ct_mny': 3926.0, 'ct_loss': 1, 't_mny': 6152.0, 't_loss': 4, 't_wins': 5, 'rnds_played': 12}} \n",
      "\n",
      "Round  12 - \n",
      " {'result': 'T', 'CT_mnyinvest': 0, 'CT_buyoption': 'S', 'T_mnyinvest': 5210.0, 'T_buyoption': 'B', 'gamestate': {'ct_mny': 6326.0, 'ct_loss': 2, 't_mny': 6576.0, 't_loss': 3, 't_wins': 6, 'rnds_played': 13}} \n",
      "\n",
      "Round  13 - \n",
      " {'result': 'T_s', 'CT_mnyinvest': 5520.0, 'CT_buyoption': 'B', 'T_mnyinvest': 5210.0, 'T_buyoption': 'B', 'gamestate': {'ct_mny': 5362.0, 'ct_loss': 3, 't_mny': 7000.0, 't_loss': 2, 't_wins': 7, 'rnds_played': 14}} \n",
      "\n",
      "Round  14 - \n",
      " {'result': 'CT_bp', 'CT_mnyinvest': 4550.0, 'CT_buyoption': 'B', 'T_mnyinvest': 5210.0, 'T_buyoption': 'B', 'gamestate': {'ct_mny': 6182.0, 'ct_loss': 2, 't_mny': 5490.0, 't_loss': 3, 't_wins': 7, 'rnds_played': 15}} \n",
      "\n"
     ]
    }
   ],
   "source": [
    "importlib.reload(cs)\n",
    "\n",
    "n_of_1 = cs.half_simulator(eco_rules, starting_gamestate, 1)\n",
    "\n",
    "for i in range(eco_rules['MR']):\n",
    "    print(\"Round \", i, \"- \\n\", n_of_1[0][i], \"\\n\")"
   ]
  },
  {
   "cell_type": "markdown",
   "metadata": {},
   "source": [
    "## Large-Scale Simulation\n",
    "\n",
    "#### n = 10,000\n",
    "#### Light Visualization Included"
   ]
  },
  {
   "cell_type": "code",
   "execution_count": 76,
   "metadata": {},
   "outputs": [],
   "source": [
    "n = 10000\n",
    "simulation = cs.half_simulator(eco_rules, starting_gamestate, n)\n",
    "\n",
    "outcomes = ['T', 'T_s', 'CT', 'CT_fp', 'CT_bp']\n",
    "pistol_results = []\n",
    "half_results = []\n",
    "round_results = []\n",
    "\n",
    "for i in range(n):\n",
    "    pistol_results.append(simulation[i][0]['result'])\n",
    "    half_results.append(simulation[i][-1]['gamestate']['t_wins'])\n",
    "    \n",
    "    \n",
    "for j in range(eco_rules['MR']):\n",
    "        round_results.append([simulation[i][j]['result'] for i in range(n)])"
   ]
  },
  {
   "cell_type": "code",
   "execution_count": 77,
   "metadata": {},
   "outputs": [
    {
     "data": {
      "text/plain": [
       "(array([2049.,    0.,    0., 2004.,    0.,    0., 3366.,    0.,    0.,\n",
       "        2581.]),\n",
       " array([0. , 0.3, 0.6, 0.9, 1.2, 1.5, 1.8, 2.1, 2.4, 2.7, 3. ]),\n",
       " <a list of 10 Patch objects>)"
      ]
     },
     "execution_count": 77,
     "metadata": {},
     "output_type": "execute_result"
    },
    {
     "data": {
      "image/png": "[encoded data removed]",
      "text/plain": [
       "<Figure size 432x288 with 1 Axes>"
      ]
     },
     "metadata": {
      "needs_background": "light"
     },
     "output_type": "display_data"
    }
   ],
   "source": [
    "plt.hist(pistol_results, color = 'blue', edgecolor = 'black')"
   ]
  },
  {
   "cell_type": "code",
   "execution_count": 78,
   "metadata": {},
   "outputs": [
    {
     "data": {
      "text/plain": [
       "(array([2.000e+00, 1.400e+01, 2.000e+02, 3.660e+02, 2.551e+03, 2.216e+03,\n",
       "        3.477e+03, 7.160e+02, 4.320e+02, 2.600e+01]),\n",
       " array([ 0. ,  1.5,  3. ,  4.5,  6. ,  7.5,  9. , 10.5, 12. , 13.5, 15. ]),\n",
       " <a list of 10 Patch objects>)"
      ]
     },
     "execution_count": 78,
     "metadata": {},
     "output_type": "execute_result"
    },
    {
     "data": {
      "image/png": "[encoded data removed]",
      "text/plain": [
       "<Figure size 432x288 with 1 Axes>"
      ]
     },
     "metadata": {
      "needs_background": "light"
     },
     "output_type": "display_data"
    }
   ],
   "source": [
    "plt.hist(half_results, color = 'red', edgecolor = 'black')"
   ]
  },
  {
   "cell_type": "code",
   "execution_count": 84,
   "metadata": {},
   "outputs": [
    {
     "data": {
      "image/png": "[encoded data removed]",
      "text/plain": [
       "<Figure size 432x288 with 1 Axes>"
      ]
     },
     "metadata": {
      "needs_background": "light"
     },
     "output_type": "display_data"
    }
   ],
   "source": [
    "for k in range(eco_rules['MR']):\n",
    "    plt.hist(round_results[k], color = 'green', edgecolor = 'black', stacked=False)\n"
   ]
  }
 ],
 "metadata": {
  "kernelspec": {
   "display_name": "Python 3",
   "language": "python",
   "name": "python3"
  },
  "language_info": {
   "codemirror_mode": {
    "name": "ipython",
    "version": 3
   },
   "file_extension": ".py",
   "mimetype": "text/x-python",
   "name": "python",
   "nbconvert_exporter": "python",
   "pygments_lexer": "ipython3",
   "version": "3.7.6"
  }
 },
 "nbformat": 4,
 "nbformat_minor": 4
}
