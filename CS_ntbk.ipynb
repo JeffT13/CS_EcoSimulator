{
 "cells": [
  {
   "cell_type": "markdown",
   "metadata": {},
   "source": [
    "# CS:GO Economy Simulation"
   ]
  },
  {
   "cell_type": "markdown",
   "metadata": {},
   "source": [
    "\n",
    "$$ \\text{force_rate} = \\frac{\\text{Cost of Vest}}{\\text{Starting Money}} $$ \n",
    "\n",
    "$$ \\text{t_win_lean} = \\frac{\\text{CT Even Buy}}{\\text{T Even Buy}} $$\n",
    "\n",
    "$$ \\text{t_plant_lean} = \\frac{\\text{CT Max Buy}}{\\text{T Max Buy}} $$\n",
    "\n",
    "---\n",
    "\n",
    "$$ \\text{ct_odds} = \\frac{\\text{CT money invested}}{\\text{CT money invested} + \\textit{t_win_lean}*\\text{T money invest}} $$\n",
    "\n",
    "$$ \\text{plant_odds} = \\frac{\\text{CT money invested}}{\\text{CT money invested} + \\textit{t_plant_lean}*\\text{T money invest}} $$"
   ]
  },
  {
   "cell_type": "markdown",
   "metadata": {},
   "source": [
    "### Imports and Variable Initialization"
   ]
  },
  {
   "cell_type": "code",
   "execution_count": 1,
   "metadata": {},
   "outputs": [],
   "source": [
    "import CS_EcoAnalyzer as cs\n",
    "\n",
    "import importlib\n",
    "import matplotlib.pyplot as plt\n",
    "import seaborn as sns\n",
    "import pandas as pd\n",
    "from scipy import stats"
   ]
  },
  {
   "cell_type": "code",
   "execution_count": 2,
   "metadata": {},
   "outputs": [],
   "source": [
    "market = {'AWP': 4750,\n",
    "          'AK47': 2700,\n",
    "          'M4A4': 3100,\n",
    "          'M4A1': 2900,\n",
    "          'Famas': 2050,\n",
    "          'Galil': 1800,\n",
    "          'Scout': 1700, \n",
    "          'Mag7': 1300, \n",
    "          'MP9': 1250,\n",
    "          'Mac10': 1050,\n",
    "          'Deagle': 700,\n",
    "          'P250': 300,\n",
    "          'Vesthelm': 1000,\n",
    "          'Vest': 650,\n",
    "          'Smoke': 300,\n",
    "          'Flash': 200,\n",
    "          'Molly': 400,\n",
    "          'HE': 300,\n",
    "          'Incendiary': 600,\n",
    "          'DefuseKit': 400\n",
    "         }\n",
    "          \n",
    "\n",
    "full_util_CT = market['Vesthelm'] + market['Smoke'] + market['Incendiary'] + market['Flash'] + market['HE'] + market['DefuseKit']\n",
    "even_util_CT = market['Vest'] + market['Smoke'] + market['Incendiary'] + market['Flash'] + market['DefuseKit']\n",
    "light_util_CT = market['Vest'] + market['Smoke'] +  market['Flash']*2 +  market['DefuseKit'] \n",
    "\n",
    "ct_max_buy = market['AWP']*2 + market['M4A4']*3 + full_util_CT*5 - (market['Vesthelm']-market['Vest'])*2\n",
    "ct_even_buy =  market['AWP']*1 + market['M4A4']*4 + even_util_CT*5 - market['DefuseKit']*2\n",
    "ct_min_buy = market['M4A1']*2 + market['Famas']*2 + market['MP9'] + light_util_CT*5  - market['DefuseKit']*3 + market['Incendiary']*3 \n",
    "\n",
    "full_util_T = market['Vesthelm']+market['Smoke']+market['Molly']+market['Flash']*2\n",
    "t_max_buy =  market['AWP']*1 + market['AK47']*4 + full_util_T*5\n",
    "t_even_buy = market['AK47']*5 + full_util_T*5\n",
    "t_min_buy = market['AK47']*2 + market['Galil']*2 + market['Deagle'] + full_util_T*4 - market['Molly']*2\n",
    "\n",
    "t_win_lean = ct_even_buy/t_even_buy\n",
    "t_plant_lean = ct_max_buy/t_min_buy\n",
    "\n",
    "ct_buy_levels = [ct_max_buy/5, ct_even_buy/5, ct_min_buy/5]\n",
    "t_buy_levels = [t_max_buy/5, t_even_buy/5, t_min_buy/5]\n",
    "\n",
    "starting_money = 800\n",
    "starting_loss = 1\n",
    "force_percent = market['Vest']/starting_money\n",
    "liverate_kill = (market['AWP']+market['AK47']+market['Vest']*2+market['DefuseKit']+market['Flash']*2)/ct_even_buy\n",
    "liverate_obj= (market['AWP']+market['Vest']+market['DefuseKit']+market['Flash'])/ct_even_buy\n",
    "liverate_save = (market['AWP']+market['M4A4']*3 + market['Vest']*4+full_util_CT)/ct_even_buy\n",
    "\n",
    "\n",
    "eco_rules = {'starting_mny': starting_money,\n",
    "                'starting_loss': starting_loss,\n",
    "                'win_reward_kill': 3250,\n",
    "                'win_reward_obj': 3500,\n",
    "                'loss_reward': 1400,\n",
    "                'loss_increment': 500,\n",
    "                'kill_reward': 300,\n",
    "                'plant_reward': 800,\n",
    "                'max_mny': 16000,\n",
    "                'max_loss': 5,\n",
    "                'MR': 15,\n",
    "                'market': market,\n",
    "             # These values are calculated, but speculation\n",
    "             # See Methodology in README for breakdown \n",
    "                'ct_bl': ct_buy_levels, \n",
    "                't_bl': t_buy_levels,\n",
    "                't_win_lean': t_win_lean,\n",
    "                't_plant_lean': t_plant_lean,\n",
    "                'force_rate': force_percent,\n",
    "                'win_LR_kill': liverate_kill,\n",
    "                'win_LR_obj': liverate_obj,\n",
    "                'win_LR_save':liverate_save,\n",
    "             # NO IDEA about these values, pure guesswork\n",
    "                'save_returnrate': 1/5\n",
    "            }\n",
    "            \n",
    "starting_gamestate = {'ct_mny': eco_rules['starting_mny'],\n",
    "                        'ct_loss':eco_rules['starting_loss'],\n",
    "                        't_mny':eco_rules['starting_mny'],\n",
    "                        't_loss':eco_rules['starting_loss'],\n",
    "                        't_wins':0,\n",
    "                        'rnds_played':0\n",
    "                     }  "
   ]
  },
  {
   "cell_type": "markdown",
   "metadata": {},
   "source": [
    "#### Simulating a single half and outputting the results of each round"
   ]
  },
  {
   "cell_type": "code",
   "execution_count": 3,
   "metadata": {
    "scrolled": true
   },
   "outputs": [
    {
     "data": {
      "text/html": [
       "<div>\n",
       "<style scoped>\n",
       "    .dataframe tbody tr th:only-of-type {\n",
       "        vertical-align: middle;\n",
       "    }\n",
       "\n",
       "    .dataframe tbody tr th {\n",
       "        vertical-align: top;\n",
       "    }\n",
       "\n",
       "    .dataframe thead th {\n",
       "        text-align: right;\n",
       "    }\n",
       "</style>\n",
       "<table border=\"1\" class=\"dataframe\">\n",
       "  <thead>\n",
       "    <tr style=\"text-align: right;\">\n",
       "      <th></th>\n",
       "      <th>winner</th>\n",
       "      <th>event</th>\n",
       "      <th>CT_mnyinvest</th>\n",
       "      <th>CT_buyoption</th>\n",
       "      <th>T_mnyinvest</th>\n",
       "      <th>T_buyoption</th>\n",
       "      <th>gamestate</th>\n",
       "    </tr>\n",
       "  </thead>\n",
       "  <tbody>\n",
       "    <tr>\n",
       "      <th>0</th>\n",
       "      <td>CT</td>\n",
       "      <td>bomb_plant_force</td>\n",
       "      <td>650.0</td>\n",
       "      <td>F</td>\n",
       "      <td>650.0</td>\n",
       "      <td>F</td>\n",
       "      <td>{'ct_mny': 4094.0, 'ct_loss': 0, 't_mny': 3650...</td>\n",
       "    </tr>\n",
       "    <tr>\n",
       "      <th>1</th>\n",
       "      <td>T</td>\n",
       "      <td>none</td>\n",
       "      <td>0.0</td>\n",
       "      <td>S</td>\n",
       "      <td>3460.0</td>\n",
       "      <td>B</td>\n",
       "      <td>{'ct_mny': 5994.0, 'ct_loss': 1, 't_mny': 4959...</td>\n",
       "    </tr>\n",
       "    <tr>\n",
       "      <th>2</th>\n",
       "      <td>T</td>\n",
       "      <td>bomb_plant</td>\n",
       "      <td>5420.0</td>\n",
       "      <td>B</td>\n",
       "      <td>4800.0</td>\n",
       "      <td>B</td>\n",
       "      <td>{'ct_mny': 4058.0, 'ct_loss': 2, 't_mny': 5022...</td>\n",
       "    </tr>\n",
       "    <tr>\n",
       "      <th>3</th>\n",
       "      <td>T</td>\n",
       "      <td>none</td>\n",
       "      <td>0.0</td>\n",
       "      <td>S</td>\n",
       "      <td>4800.0</td>\n",
       "      <td>B</td>\n",
       "      <td>{'ct_mny': 6958.0, 'ct_loss': 3, 't_mny': 5464...</td>\n",
       "    </tr>\n",
       "    <tr>\n",
       "      <th>4</th>\n",
       "      <td>T</td>\n",
       "      <td>none</td>\n",
       "      <td>6420.0</td>\n",
       "      <td>B</td>\n",
       "      <td>5210.0</td>\n",
       "      <td>B</td>\n",
       "      <td>{'ct_mny': 3938.0, 'ct_loss': 4, 't_mny': 5640...</td>\n",
       "    </tr>\n",
       "    <tr>\n",
       "      <th>5</th>\n",
       "      <td>T</td>\n",
       "      <td>none</td>\n",
       "      <td>0.0</td>\n",
       "      <td>S</td>\n",
       "      <td>5210.0</td>\n",
       "      <td>B</td>\n",
       "      <td>{'ct_mny': 7838.0, 'ct_loss': 5, 't_mny': 5816...</td>\n",
       "    </tr>\n",
       "    <tr>\n",
       "      <th>6</th>\n",
       "      <td>T</td>\n",
       "      <td>bomb_plant</td>\n",
       "      <td>6420.0</td>\n",
       "      <td>B</td>\n",
       "      <td>5210.0</td>\n",
       "      <td>B</td>\n",
       "      <td>{'ct_mny': 6602.0, 'ct_loss': 5, 't_mny': 5560...</td>\n",
       "    </tr>\n",
       "    <tr>\n",
       "      <th>7</th>\n",
       "      <td>T</td>\n",
       "      <td>none</td>\n",
       "      <td>6420.0</td>\n",
       "      <td>B</td>\n",
       "      <td>5210.0</td>\n",
       "      <td>B</td>\n",
       "      <td>{'ct_mny': 4082.0, 'ct_loss': 5, 't_mny': 5736...</td>\n",
       "    </tr>\n",
       "    <tr>\n",
       "      <th>8</th>\n",
       "      <td>T</td>\n",
       "      <td>none</td>\n",
       "      <td>0.0</td>\n",
       "      <td>S</td>\n",
       "      <td>5210.0</td>\n",
       "      <td>B</td>\n",
       "      <td>{'ct_mny': 7982.0, 'ct_loss': 5, 't_mny': 5912...</td>\n",
       "    </tr>\n",
       "    <tr>\n",
       "      <th>9</th>\n",
       "      <td>CT</td>\n",
       "      <td>none</td>\n",
       "      <td>6420.0</td>\n",
       "      <td>B</td>\n",
       "      <td>5210.0</td>\n",
       "      <td>B</td>\n",
       "      <td>{'ct_mny': 7374.0, 'ct_loss': 4, 't_mny': 2802...</td>\n",
       "    </tr>\n",
       "    <tr>\n",
       "      <th>10</th>\n",
       "      <td>CT</td>\n",
       "      <td>none</td>\n",
       "      <td>6420.0</td>\n",
       "      <td>B</td>\n",
       "      <td>0.0</td>\n",
       "      <td>S</td>\n",
       "      <td>{'ct_mny': 9112.0, 'ct_loss': 3, 't_mny': 5202...</td>\n",
       "    </tr>\n",
       "    <tr>\n",
       "      <th>11</th>\n",
       "      <td>CT</td>\n",
       "      <td>bomb_plant_buy</td>\n",
       "      <td>6420.0</td>\n",
       "      <td>B</td>\n",
       "      <td>4800.0</td>\n",
       "      <td>B</td>\n",
       "      <td>{'ct_mny': 7913.0, 'ct_loss': 2, 't_mny': 4402...</td>\n",
       "    </tr>\n",
       "    <tr>\n",
       "      <th>12</th>\n",
       "      <td>T</td>\n",
       "      <td>bomb_plant</td>\n",
       "      <td>6420.0</td>\n",
       "      <td>B</td>\n",
       "      <td>3460.0</td>\n",
       "      <td>B</td>\n",
       "      <td>{'ct_mny': 5677.0, 'ct_loss': 3, 't_mny': 5508...</td>\n",
       "    </tr>\n",
       "    <tr>\n",
       "      <th>13</th>\n",
       "      <td>CT</td>\n",
       "      <td>none</td>\n",
       "      <td>5420.0</td>\n",
       "      <td>B</td>\n",
       "      <td>5210.0</td>\n",
       "      <td>B</td>\n",
       "      <td>{'ct_mny': 5717.0, 'ct_loss': 2, 't_mny': 3398...</td>\n",
       "    </tr>\n",
       "    <tr>\n",
       "      <th>14</th>\n",
       "      <td>CT</td>\n",
       "      <td>none</td>\n",
       "      <td>5420.0</td>\n",
       "      <td>B</td>\n",
       "      <td>2761.0</td>\n",
       "      <td>F</td>\n",
       "      <td>{'ct_mny': 5757.0, 'ct_loss': 1, 't_mny': 4137...</td>\n",
       "    </tr>\n",
       "  </tbody>\n",
       "</table>\n",
       "</div>"
      ],
      "text/plain": [
       "   winner             event  CT_mnyinvest CT_buyoption  T_mnyinvest  \\\n",
       "0      CT  bomb_plant_force         650.0            F        650.0   \n",
       "1       T              none           0.0            S       3460.0   \n",
       "2       T        bomb_plant        5420.0            B       4800.0   \n",
       "3       T              none           0.0            S       4800.0   \n",
       "4       T              none        6420.0            B       5210.0   \n",
       "5       T              none           0.0            S       5210.0   \n",
       "6       T        bomb_plant        6420.0            B       5210.0   \n",
       "7       T              none        6420.0            B       5210.0   \n",
       "8       T              none           0.0            S       5210.0   \n",
       "9      CT              none        6420.0            B       5210.0   \n",
       "10     CT              none        6420.0            B          0.0   \n",
       "11     CT    bomb_plant_buy        6420.0            B       4800.0   \n",
       "12      T        bomb_plant        6420.0            B       3460.0   \n",
       "13     CT              none        5420.0            B       5210.0   \n",
       "14     CT              none        5420.0            B       2761.0   \n",
       "\n",
       "   T_buyoption                                          gamestate  \n",
       "0            F  {'ct_mny': 4094.0, 'ct_loss': 0, 't_mny': 3650...  \n",
       "1            B  {'ct_mny': 5994.0, 'ct_loss': 1, 't_mny': 4959...  \n",
       "2            B  {'ct_mny': 4058.0, 'ct_loss': 2, 't_mny': 5022...  \n",
       "3            B  {'ct_mny': 6958.0, 'ct_loss': 3, 't_mny': 5464...  \n",
       "4            B  {'ct_mny': 3938.0, 'ct_loss': 4, 't_mny': 5640...  \n",
       "5            B  {'ct_mny': 7838.0, 'ct_loss': 5, 't_mny': 5816...  \n",
       "6            B  {'ct_mny': 6602.0, 'ct_loss': 5, 't_mny': 5560...  \n",
       "7            B  {'ct_mny': 4082.0, 'ct_loss': 5, 't_mny': 5736...  \n",
       "8            B  {'ct_mny': 7982.0, 'ct_loss': 5, 't_mny': 5912...  \n",
       "9            B  {'ct_mny': 7374.0, 'ct_loss': 4, 't_mny': 2802...  \n",
       "10           S  {'ct_mny': 9112.0, 'ct_loss': 3, 't_mny': 5202...  \n",
       "11           B  {'ct_mny': 7913.0, 'ct_loss': 2, 't_mny': 4402...  \n",
       "12           B  {'ct_mny': 5677.0, 'ct_loss': 3, 't_mny': 5508...  \n",
       "13           B  {'ct_mny': 5717.0, 'ct_loss': 2, 't_mny': 3398...  \n",
       "14           F  {'ct_mny': 5757.0, 'ct_loss': 1, 't_mny': 4137...  "
      ]
     },
     "execution_count": 3,
     "metadata": {},
     "output_type": "execute_result"
    }
   ],
   "source": [
    "importlib.reload(cs) #necessary for module debugging\n",
    "n_of_1 = cs.half_simulator(eco_rules, starting_gamestate, 1)\n",
    "(pd.DataFrame(n_of_1[0]))"
   ]
  },
  {
   "cell_type": "markdown",
   "metadata": {},
   "source": [
    "# Large-Scale Simulation\n",
    "\n",
    "#### n = 100000\n",
    "\n",
    "plans to optimize this section to allow for more robust exploration (spending trends, pattern freqs, etc). I want to see what analysis I can perform on actual CS matches first."
   ]
  },
  {
   "cell_type": "code",
   "execution_count": 4,
   "metadata": {},
   "outputs": [],
   "source": [
    "n = 100000\n",
    "simulation = cs.half_simulator(eco_rules, starting_gamestate, n)"
   ]
  },
  {
   "cell_type": "code",
   "execution_count": 5,
   "metadata": {},
   "outputs": [],
   "source": [
    "#Arrays to track data\n",
    "pistol_results = []\n",
    "secondround_results = []\n",
    "thirdround_results = []\n",
    "half_results = []\n",
    "round_results = []\n",
    "\n",
    "# 2nd round Analysis\n",
    "t_buyoption_2round = []\n",
    "gs_tmny_2round = []\n",
    "ct_buyoption_2round = []\n",
    "gs_ctmny_2round = []\n",
    "\n",
    "\n",
    "\n",
    "for i in range(n):\n",
    "    pistol_results.append(simulation[i][0]['winner'] + \" \" + simulation[i][0]['event'])\n",
    "    secondround_results.append(simulation[i][1]['winner'] + \" \" + simulation[i][1]['event'])\n",
    "    t_buyoption_2round.append(simulation[i][1]['T_buyoption'])\n",
    "    ct_buyoption_2round.append(simulation[i][1]['CT_buyoption'])\n",
    "    gs_tmny_2round.append(simulation[i][1]['gamestate']['t_mny'])\n",
    "    gs_ctmny_2round.append(simulation[i][1]['gamestate']['ct_mny'])\n",
    "    thirdround_results.append(simulation[i][2]['winner'] + \" \" + simulation[i][2]['event'])\n",
    "    half_results.append(simulation[i][-1]['gamestate']['t_wins'])\n",
    "    \n",
    "    \n",
    "for j in range(eco_rules['MR']):\n",
    "        round_results.append([simulation[i][j]['winner'] for i in range(n)])"
   ]
  },
  {
   "cell_type": "markdown",
   "metadata": {},
   "source": [
    "###  Total rounds won distribution"
   ]
  },
  {
   "cell_type": "code",
   "execution_count": 6,
   "metadata": {},
   "outputs": [
    {
     "data": {
      "text/plain": [
       "<matplotlib.axes._subplots.AxesSubplot at 0x7fcd50022190>"
      ]
     },
     "execution_count": 6,
     "metadata": {},
     "output_type": "execute_result"
    },
    {
     "data": {
      "image/png": "[encoded data removed]",
      "text/plain": [
       "<Figure size 432x288 with 1 Axes>"
      ]
     },
     "metadata": {
      "needs_background": "light"
     },
     "output_type": "display_data"
    }
   ],
   "source": [
    "sns.distplot(half_results, bins=eco_rules['MR'], kde=False)"
   ]
  },
  {
   "cell_type": "code",
   "execution_count": 7,
   "metadata": {},
   "outputs": [
    {
     "data": {
      "text/plain": [
       "DescribeResult(nobs=100000, minmax=(0, 15), mean=7.89155, variance=3.066779265292652, skewness=0.13492746276549608, kurtosis=0.3688889108409996)"
      ]
     },
     "execution_count": 7,
     "metadata": {},
     "output_type": "execute_result"
    }
   ],
   "source": [
    "stats.describe(half_results)"
   ]
  },
  {
   "cell_type": "markdown",
   "metadata": {},
   "source": [
    "### Round won distribution per round\n",
    "\n",
    "- Framed from CT side in table"
   ]
  },
  {
   "cell_type": "code",
   "execution_count": 8,
   "metadata": {},
   "outputs": [
    {
     "data": {
      "image/png": "[encoded data removed]",
      "text/plain": [
       "<Figure size 432x288 with 1 Axes>"
      ]
     },
     "metadata": {
      "needs_background": "light"
     },
     "output_type": "display_data"
    },
    {
     "data": {
      "image/png": "[encoded data removed]",
      "text/plain": [
       "<Figure size 432x288 with 1 Axes>"
      ]
     },
     "metadata": {
      "needs_background": "light"
     },
     "output_type": "display_data"
    },
    {
     "data": {
      "image/png": "[encoded data removed]",
      "text/plain": [
       "<Figure size 432x288 with 1 Axes>"
      ]
     },
     "metadata": {
      "needs_background": "light"
     },
     "output_type": "display_data"
    },
    {
     "data": {
      "image/png": "[encoded data removed]",
      "text/plain": [
       "<Figure size 432x288 with 1 Axes>"
      ]
     },
     "metadata": {
      "needs_background": "light"
     },
     "output_type": "display_data"
    },
    {
     "data": {
      "image/png": "[encoded data removed]",
      "text/plain": [
       "<Figure size 432x288 with 1 Axes>"
      ]
     },
     "metadata": {
      "needs_background": "light"
     },
     "output_type": "display_data"
    },
    {
     "data": {
      "image/png": "[encoded data removed]",
      "text/plain": [
       "<Figure size 432x288 with 1 Axes>"
      ]
     },
     "metadata": {
      "needs_background": "light"
     },
     "output_type": "display_data"
    },
    {
     "data": {
      "image/png": "[encoded data removed]",
      "text/plain": [
       "<Figure size 432x288 with 1 Axes>"
      ]
     },
     "metadata": {
      "needs_background": "light"
     },
     "output_type": "display_data"
    },
    {
     "data": {
      "image/png": "[encoded data removed]",
      "text/plain": [
       "<Figure size 432x288 with 1 Axes>"
      ]
     },
     "metadata": {
      "needs_background": "light"
     },
     "output_type": "display_data"
    },
    {
     "data": {
      "image/png": "[encoded data removed]",
      "text/plain": [
       "<Figure size 432x288 with 1 Axes>"
      ]
     },
     "metadata": {
      "needs_background": "light"
     },
     "output_type": "display_data"
    },
    {
     "data": {
      "image/png": "[encoded data removed]",
      "text/plain": [
       "<Figure size 432x288 with 1 Axes>"
      ]
     },
     "metadata": {
      "needs_background": "light"
     },
     "output_type": "display_data"
    },
    {
     "data": {
      "image/png": "[encoded data removed]",
      "text/plain": [
       "<Figure size 432x288 with 1 Axes>"
      ]
     },
     "metadata": {
      "needs_background": "light"
     },
     "output_type": "display_data"
    },
    {
     "data": {
      "image/png": "[encoded data removed]",
      "text/plain": [
       "<Figure size 432x288 with 1 Axes>"
      ]
     },
     "metadata": {
      "needs_background": "light"
     },
     "output_type": "display_data"
    },
    {
     "data": {
      "image/png": "[encoded data removed]",
      "text/plain": [
       "<Figure size 432x288 with 1 Axes>"
      ]
     },
     "metadata": {
      "needs_background": "light"
     },
     "output_type": "display_data"
    },
    {
     "data": {
      "image/png": "[encoded data removed]",
      "text/plain": [
       "<Figure size 432x288 with 1 Axes>"
      ]
     },
     "metadata": {
      "needs_background": "light"
     },
     "output_type": "display_data"
    },
    {
     "data": {
      "image/png": "[encoded data removed]",
      "text/plain": [
       "<Figure size 432x288 with 1 Axes>"
      ]
     },
     "metadata": {
      "needs_background": "light"
     },
     "output_type": "display_data"
    }
   ],
   "source": [
    "for k in range(eco_rules['MR']):\n",
    "    plt.hist(round_results[k], color = 'green', edgecolor = 'black', stacked=False)\n",
    "    tit = \"Round \"+str(k+1)+\" Results\"\n",
    "    plt.title(tit)\n",
    "    plt.show()\n"
   ]
  },
  {
   "cell_type": "code",
   "execution_count": 9,
   "metadata": {},
   "outputs": [
    {
     "name": "stdout",
     "output_type": "stream",
     "text": [
      " Round  CT Win %\n",
      "     1     46960\n",
      "     2     19934\n",
      "     3     41361\n",
      "     4     49724\n",
      "     5     52734\n",
      "     6     54000\n",
      "     7     50489\n",
      "     8     50576\n",
      "     9     50007\n",
      "    10     49852\n",
      "    11     49630\n",
      "    12     48723\n",
      "    13     48624\n",
      "    14     48792\n",
      "    15     49439\n"
     ]
    }
   ],
   "source": [
    "ct_win_percent = []\n",
    "for i in range(eco_rules['MR']):\n",
    "    ct_win_percent.append([i+1, sum([1 for x in round_results[i] if x=='CT'])])\n",
    "    \n",
    "ctw_df = pd.DataFrame(ct_win_percent, columns=['Round', 'CT Win %']).to_string(index=False)\n",
    "print(ctw_df)"
   ]
  },
  {
   "cell_type": "markdown",
   "metadata": {},
   "source": [
    "### Event Analysis for first 3 rounds"
   ]
  },
  {
   "cell_type": "code",
   "execution_count": 10,
   "metadata": {},
   "outputs": [
    {
     "data": {
      "text/plain": [
       "(array([34954.,     0.,     0., 31079.,     0.,     0., 21961.,     0.,\n",
       "            0., 12006.]),\n",
       " array([0. , 0.3, 0.6, 0.9, 1.2, 1.5, 1.8, 2.1, 2.4, 2.7, 3. ]),\n",
       " <a list of 10 Patch objects>)"
      ]
     },
     "execution_count": 10,
     "metadata": {},
     "output_type": "execute_result"
    },
    {
     "data": {
      "image/png": "[encoded data removed]",
      "text/plain": [
       "<Figure size 432x288 with 1 Axes>"
      ]
     },
     "metadata": {
      "needs_background": "light"
     },
     "output_type": "display_data"
    }
   ],
   "source": [
    "plt.hist(pistol_results, color = 'blue', edgecolor = 'black')"
   ]
  },
  {
   "cell_type": "code",
   "execution_count": 11,
   "metadata": {},
   "outputs": [
    {
     "data": {
      "text/plain": [
       "(array([1.3698e+04, 0.0000e+00, 6.6368e+04, 0.0000e+00, 0.0000e+00,\n",
       "        1.5538e+04, 0.0000e+00, 4.3910e+03, 0.0000e+00, 5.0000e+00]),\n",
       " array([0. , 0.4, 0.8, 1.2, 1.6, 2. , 2.4, 2.8, 3.2, 3.6, 4. ]),\n",
       " <a list of 10 Patch objects>)"
      ]
     },
     "execution_count": 11,
     "metadata": {},
     "output_type": "execute_result"
    },
    {
     "data": {
      "image/png": "[encoded data removed]",
      "text/plain": [
       "<Figure size 432x288 with 1 Axes>"
      ]
     },
     "metadata": {
      "needs_background": "light"
     },
     "output_type": "display_data"
    }
   ],
   "source": [
    "plt.hist(secondround_results, color = 'red', edgecolor = 'black')"
   ]
  },
  {
   "cell_type": "code",
   "execution_count": 12,
   "metadata": {},
   "outputs": [
    {
     "data": {
      "text/plain": [
       "(array([30681.,     0.,     0., 15487.,     0.,     0., 27958.,     0.,\n",
       "            0., 25874.]),\n",
       " array([0. , 0.3, 0.6, 0.9, 1.2, 1.5, 1.8, 2.1, 2.4, 2.7, 3. ]),\n",
       " <a list of 10 Patch objects>)"
      ]
     },
     "execution_count": 12,
     "metadata": {},
     "output_type": "execute_result"
    },
    {
     "data": {
      "image/png": "[encoded data removed]",
      "text/plain": [
       "<Figure size 432x288 with 1 Axes>"
      ]
     },
     "metadata": {
      "needs_background": "light"
     },
     "output_type": "display_data"
    }
   ],
   "source": [
    "plt.hist(thirdround_results, color = 'orange', edgecolor = 'black')"
   ]
  },
  {
   "cell_type": "markdown",
   "metadata": {},
   "source": [
    "### Deeper Analysis of extreme CT loss on second round phenomena"
   ]
  },
  {
   "cell_type": "code",
   "execution_count": 13,
   "metadata": {},
   "outputs": [
    {
     "data": {
      "text/plain": [
       "(array([34954.,     0.,     0.,     0.,     0.,     0.,     0.,     0.,\n",
       "            0., 65046.]),\n",
       " array([0. , 0.1, 0.2, 0.3, 0.4, 0.5, 0.6, 0.7, 0.8, 0.9, 1. ]),\n",
       " <a list of 10 Patch objects>)"
      ]
     },
     "execution_count": 13,
     "metadata": {},
     "output_type": "execute_result"
    },
    {
     "data": {
      "image/png": "[encoded data removed]",
      "text/plain": [
       "<Figure size 432x288 with 1 Axes>"
      ]
     },
     "metadata": {
      "needs_background": "light"
     },
     "output_type": "display_data"
    }
   ],
   "source": [
    "plt.hist(t_buyoption_2round, color = 'green', edgecolor = 'black')"
   ]
  },
  {
   "cell_type": "code",
   "execution_count": 14,
   "metadata": {},
   "outputs": [
    {
     "data": {
      "text/plain": [
       "(array([34954.,     0.,     0.,     0.,     0.,     0.,     0.,     0.,\n",
       "            0., 65046.]),\n",
       " array([0. , 0.1, 0.2, 0.3, 0.4, 0.5, 0.6, 0.7, 0.8, 0.9, 1. ]),\n",
       " <a list of 10 Patch objects>)"
      ]
     },
     "execution_count": 14,
     "metadata": {},
     "output_type": "execute_result"
    },
    {
     "data": {
      "image/png": "[encoded data removed]",
      "text/plain": [
       "<Figure size 432x288 with 1 Axes>"
      ]
     },
     "metadata": {
      "needs_background": "light"
     },
     "output_type": "display_data"
    }
   ],
   "source": [
    "plt.hist(ct_buyoption_2round, color = 'green', edgecolor = 'black')"
   ]
  },
  {
   "cell_type": "code",
   "execution_count": 15,
   "metadata": {},
   "outputs": [
    {
     "data": {
      "text/plain": [
       "(array([4.0000e+00, 0.0000e+00, 3.0000e+00, 1.5536e+04, 0.0000e+00,\n",
       "        0.0000e+00, 4.3910e+03, 1.5034e+04, 1.2002e+04, 5.3030e+04]),\n",
       " array([2569. , 2852.4, 3135.8, 3419.2, 3702.6, 3986. , 4269.4, 4552.8,\n",
       "        4836.2, 5119.6, 5403. ]),\n",
       " <a list of 10 Patch objects>)"
      ]
     },
     "execution_count": 15,
     "metadata": {},
     "output_type": "execute_result"
    },
    {
     "data": {
      "image/png": "[encoded data removed]",
      "text/plain": [
       "<Figure size 432x288 with 1 Axes>"
      ]
     },
     "metadata": {
      "needs_background": "light"
     },
     "output_type": "display_data"
    }
   ],
   "source": [
    "plt.hist(gs_tmny_2round)"
   ]
  },
  {
   "cell_type": "code",
   "execution_count": 16,
   "metadata": {},
   "outputs": [
    {
     "data": {
      "text/plain": [
       "(array([1.5032e+04, 0.0000e+00, 0.0000e+00, 0.0000e+00, 0.0000e+00,\n",
       "        7.2953e+04, 1.2007e+04, 5.0000e+00, 0.0000e+00, 3.0000e+00]),\n",
       " array([2637. , 3137.7, 3638.4, 4139.1, 4639.8, 5140.5, 5641.2, 6141.9,\n",
       "        6642.6, 7143.3, 7644. ]),\n",
       " <a list of 10 Patch objects>)"
      ]
     },
     "execution_count": 16,
     "metadata": {},
     "output_type": "execute_result"
    },
    {
     "data": {
      "image/png": "[encoded data removed]",
      "text/plain": [
       "<Figure size 432x288 with 1 Axes>"
      ]
     },
     "metadata": {
      "needs_background": "light"
     },
     "output_type": "display_data"
    }
   ],
   "source": [
    "plt.hist(gs_ctmny_2round)"
   ]
  },
  {
   "cell_type": "code",
   "execution_count": null,
   "metadata": {},
   "outputs": [],
   "source": []
  }
 ],
 "metadata": {
  "kernelspec": {
   "display_name": "Python 3",
   "language": "python",
   "name": "python3"
  },
  "language_info": {
   "codemirror_mode": {
    "name": "ipython",
    "version": 3
   },
   "file_extension": ".py",
   "mimetype": "text/x-python",
   "name": "python",
   "nbconvert_exporter": "python",
   "pygments_lexer": "ipython3",
   "version": "3.7.6"
  }
 },
 "nbformat": 4,
 "nbformat_minor": 4
}
