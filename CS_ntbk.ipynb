{
 "cells": [
  {
   "cell_type": "markdown",
   "metadata": {},
   "source": [
    "# CS:GO Economy Simulation"
   ]
  },
  {
   "cell_type": "markdown",
   "metadata": {},
   "source": [
    "\n",
    "$$ \\text{force_rate} = \\frac{\\text{Cost of Vest}}{\\text{Starting Money}} $$ \n",
    "\n",
    "$$ \\text{ct_odds} = \\frac{\\text{CT money invested}}{\\text{CT money invested} + \\text{t_lean}*\\text{T money invest}} $$\n"
   ]
  },
  {
   "cell_type": "markdown",
   "metadata": {},
   "source": [
    "### Imports and Variable Initialization"
   ]
  },
  {
   "cell_type": "code",
   "execution_count": 54,
   "metadata": {},
   "outputs": [],
   "source": [
    "import importlib\n",
    "import CS_EcoAnalyzer as cs\n",
    "import matplotlib.pyplot as plt\n",
    "import pandas as pd"
   ]
  },
  {
   "cell_type": "code",
   "execution_count": 61,
   "metadata": {},
   "outputs": [],
   "source": [
    "#!\\usr\\bin\\python\n",
    "\n",
    "\n",
    "market = {'AWP': 4750,\n",
    "          'AK47': 2700,\n",
    "          'M4A4': 3100,\n",
    "          'M4A1': 2900,\n",
    "          'Famas': 2050,\n",
    "          'Galil': 1800,\n",
    "          'Scout': 1700, \n",
    "          'Mag7': 1300, \n",
    "          'MP9': 1250,\n",
    "          'Mac10': 1050,\n",
    "          'Deagle': 700,\n",
    "          'P250': 300,\n",
    "          'Vesthelm': 1000,\n",
    "          'Vest': 650,\n",
    "          'Smoke': 300,\n",
    "          'Flash': 200,\n",
    "          'Molly': 400,\n",
    "          'HE': 300,\n",
    "          'Incendiary': 600,\n",
    "          'DefuseKit': 400\n",
    "         }\n",
    "          \n",
    "\n",
    "full_util_CT = market['Vesthelm'] + market['Smoke'] + market['Incendiary'] + market['Flash'] + market['HE'] + market['DefuseKit']\n",
    "even_util_CT = market['Vest'] + market['Smoke'] + market['Incendiary'] + market['Flash'] + market['DefuseKit']\n",
    "light_util_CT = market['Vest'] + market['Smoke'] +  market['Flash']*2 +  market['DefuseKit'] \n",
    "\n",
    "ct_max_buy = market['AWP']*2 + market['M4A4']*3 + full_util_CT*5 - (market['Vesthelm']-market['Vest'])*2\n",
    "ct_even_buy =  market['AWP']*1 + market['M4A4']*4 + even_util_CT*5 - market['DefuseKit']*2\n",
    "ct_min_buy = market['M4A1']*2 + market['Famas']*2 + market['MP9'] + light_util_CT*5  - market['DefuseKit']*3 + market['Incendiary']*3 \n",
    "\n",
    "full_util_T = market['Vesthelm']+market['Smoke']+market['Molly']+market['Flash']*2\n",
    "t_max_buy =  market['AWP']*1 + market['AK47']*4 + full_util_T*5\n",
    "t_even_buy = market['AK47']*5 + full_util_T*5\n",
    "t_min_buy = market['AK47']*2 + market['Galil']*2 + market['Deagle'] + full_util_T*4 - market['Molly']*2\n",
    "\n",
    "t_win_lean = ct_even_buy/t_even_buy\n",
    "t_plant_lean = ct_max_buy/t_min_buy\n",
    "\n",
    "ct_buy_levels = [ct_max_buy/5, ct_even_buy/5, ct_min_buy/5]\n",
    "t_buy_levels = [t_max_buy/5, t_even_buy/5, t_min_buy/5]\n",
    "\n",
    "starting_money = 800\n",
    "starting_loss = 1\n",
    "force_percent = market['Vest']/starting_money\n",
    "liverate_kill = (market['AWP']+market['AK47']+market['Vest']*2+market['DefuseKit']+market['Flash']*2)/ct_even_buy\n",
    "liverate_obj= (market['AWP']+market['Vest']+market['DefuseKit']+market['Flash'])/ct_even_buy\n",
    "liverate_save = (market['AWP']+market['M4A4']*3 + market['Vest']*4+full_util_CT)/ct_even_buy\n",
    "\n",
    "\n",
    "eco_rules = {'starting_mny': starting_money,\n",
    "             'starting_loss': starting_loss,\n",
    "             'win_reward_kill': 3250,\n",
    "             'win_reward_obj': 3500,\n",
    "             'loss_reward': 1400,\n",
    "             'loss_increment': 500,\n",
    "             'kill_reward': 300,\n",
    "             'plant_reward': 800,\n",
    "             'max_mny': 16000,\n",
    "             'max_loss': 5,\n",
    "             'MR': 15,\n",
    "             'market': market,\n",
    "             'ct_bl': ct_buy_levels, \n",
    "             't_bl': t_buy_levels,\n",
    "             'force_rate': force_percent,\n",
    "             't_win_lean': t_win_lean,\n",
    "             't_plant_lean': t_plant_lean,\n",
    "             'win_LR_kill': liverate_kill,\n",
    "             'win_LR_obj': liverate_obj,\n",
    "             'win_LR_save':liverate_save,\n",
    "            # NO IDEA about these values, pure guesswork\n",
    "             'save_returnrate': 1/5,\n",
    "             'save_multiplier': 1, #not called in code, currently default to 1\n",
    "\n",
    "            }\n",
    "            \n",
    "starting_gamestate = {'ct_mny': eco_rules['starting_mny'],\n",
    "                    'ct_loss':eco_rules['starting_loss'],\n",
    "                    't_mny':eco_rules['starting_mny'],\n",
    "                    't_loss':eco_rules['starting_loss'],\n",
    "                    't_wins':0,\n",
    "                    'rnds_played':0\n",
    "                   }  "
   ]
  },
  {
   "cell_type": "code",
   "execution_count": 62,
   "metadata": {},
   "outputs": [
    {
     "name": "stdout",
     "output_type": "stream",
     "text": [
      "0.17683336145682743\n",
      "0.6768262872270764\n"
     ]
    }
   ],
   "source": [
    "ct_odds = 0.4797789037309995\n",
    "\n",
    "plant_odds = 0.3649169840060929\n",
    "\n",
    "print((eco_rules['t_win_lean']*ct_odds)-plant_odds)\n",
    "\n",
    "print(1-(plant_odds/eco_rules['t_win_lean']))"
   ]
  },
  {
   "cell_type": "markdown",
   "metadata": {},
   "source": [
    "#### Simulating a single half and outputting the results of each round"
   ]
  },
  {
   "cell_type": "code",
   "execution_count": 71,
   "metadata": {},
   "outputs": [
    {
     "name": "stdout",
     "output_type": "stream",
     "text": [
      "Round  0 - \n",
      " {'winner': 'CT', 'event': 'bomb_plant_force', 'CT_mnyinvest': 650.0, 'CT_buyoption': 'F', 'T_mnyinvest': 650.0, 'T_buyoption': 'F', 'gamestate': {'ct_mny': 4094.0, 'ct_loss': 0, 't_mny': 3650.0, 't_loss': 2, 't_wins': 0, 'rnds_played': 1}} \n",
      "\n",
      "Round  1 - \n",
      " {'winner': 'T', 'event': 'none', 'CT_mnyinvest': 0, 'CT_buyoption': 'S', 'T_mnyinvest': 3460.0, 'T_buyoption': 'B', 'gamestate': {'ct_mny': 5994.0, 'ct_loss': 1, 't_mny': 4959.0, 't_loss': 1, 't_wins': 1, 'rnds_played': 2}} \n",
      "\n",
      "Round  2 - \n",
      " {'winner': 'T', 'event': 'bomb_plant', 'CT_mnyinvest': 5420.0, 'CT_buyoption': 'B', 'T_mnyinvest': 4800.0, 'T_buyoption': 'B', 'gamestate': {'ct_mny': 4058.0, 'ct_loss': 2, 't_mny': 5022.0, 't_loss': 0, 't_wins': 2, 'rnds_played': 3}} \n",
      "\n",
      "Round  3 - \n",
      " {'winner': 'T', 'event': 'none', 'CT_mnyinvest': 0, 'CT_buyoption': 'S', 'T_mnyinvest': 4800.0, 'T_buyoption': 'B', 'gamestate': {'ct_mny': 6958.0, 'ct_loss': 3, 't_mny': 5464.0, 't_loss': 0, 't_wins': 3, 'rnds_played': 4}} \n",
      "\n",
      "Round  4 - \n",
      " {'winner': 'CT', 'event': 'none', 'CT_mnyinvest': 6420.0, 'CT_buyoption': 'B', 'T_mnyinvest': 5210.0, 'T_buyoption': 'B', 'gamestate': {'ct_mny': 6350.0, 'ct_loss': 2, 't_mny': 2354.0, 't_loss': 1, 't_wins': 3, 'rnds_played': 5}} \n",
      "\n",
      "Round  5 - \n",
      " {'winner': 'CT', 'event': 'none', 'CT_mnyinvest': 5420.0, 'CT_buyoption': 'B', 'T_mnyinvest': 0, 'T_buyoption': 'S', 'gamestate': {'ct_mny': 8370.0, 'ct_loss': 1, 't_mny': 4754.0, 't_loss': 2, 't_wins': 3, 'rnds_played': 6}} \n",
      "\n",
      "Round  6 - \n",
      " {'winner': 'T', 'event': 'bomb_plant', 'CT_mnyinvest': 6420.0, 'CT_buyoption': 'B', 'T_mnyinvest': 3460.0, 'T_buyoption': 'B', 'gamestate': {'ct_mny': 5634.0, 'ct_loss': 2, 't_mny': 5860.0, 't_loss': 1, 't_wins': 4, 'rnds_played': 7}} \n",
      "\n",
      "Round  7 - \n",
      " {'winner': 'T', 'event': 'bomb_plant', 'CT_mnyinvest': 5420.0, 'CT_buyoption': 'B', 'T_mnyinvest': 5210.0, 'T_buyoption': 'B', 'gamestate': {'ct_mny': 4198.0, 'ct_loss': 3, 't_mny': 5604.0, 't_loss': 0, 't_wins': 5, 'rnds_played': 8}} \n",
      "\n",
      "Round  8 - \n",
      " {'winner': 'T', 'event': 'none', 'CT_mnyinvest': 4100.0, 'CT_buyoption': 'B', 'T_mnyinvest': 5210.0, 'T_buyoption': 'B', 'gamestate': {'ct_mny': 3498.0, 'ct_loss': 4, 't_mny': 5780.0, 't_loss': 0, 't_wins': 6, 'rnds_played': 9}} \n",
      "\n",
      "Round  9 - \n",
      " {'winner': 'T', 'event': 'none', 'CT_mnyinvest': 0, 'CT_buyoption': 'S', 'T_mnyinvest': 5210.0, 'T_buyoption': 'B', 'gamestate': {'ct_mny': 7398.0, 'ct_loss': 5, 't_mny': 5956.0, 't_loss': 0, 't_wins': 7, 'rnds_played': 10}} \n",
      "\n",
      "Round  10 - \n",
      " {'winner': 'T', 'event': 'bomb_plant', 'CT_mnyinvest': 6420.0, 'CT_buyoption': 'B', 'T_mnyinvest': 5210.0, 'T_buyoption': 'B', 'gamestate': {'ct_mny': 6162.0, 'ct_loss': 5, 't_mny': 5700.0, 't_loss': 0, 't_wins': 8, 'rnds_played': 11}} \n",
      "\n",
      "Round  11 - \n",
      " {'winner': 'CT', 'event': 'none', 'CT_mnyinvest': 5420.0, 'CT_buyoption': 'B', 'T_mnyinvest': 5210.0, 'T_buyoption': 'B', 'gamestate': {'ct_mny': 6202.0, 'ct_loss': 4, 't_mny': 2590.0, 't_loss': 1, 't_wins': 8, 'rnds_played': 12}} \n",
      "\n",
      "Round  12 - \n",
      " {'winner': 'CT', 'event': 'none', 'CT_mnyinvest': 5420.0, 'CT_buyoption': 'B', 'T_mnyinvest': 0, 'T_buyoption': 'S', 'gamestate': {'ct_mny': 8222.0, 'ct_loss': 3, 't_mny': 4990.0, 't_loss': 2, 't_wins': 8, 'rnds_played': 13}} \n",
      "\n",
      "Round  13 - \n",
      " {'winner': 'T', 'event': 'bomb_plant', 'CT_mnyinvest': 6420.0, 'CT_buyoption': 'B', 'T_mnyinvest': 4800.0, 'T_buyoption': 'B', 'gamestate': {'ct_mny': 6486.0, 'ct_loss': 4, 't_mny': 5053.0, 't_loss': 1, 't_wins': 9, 'rnds_played': 14}} \n",
      "\n",
      "Round  14 - \n",
      " {'winner': 'CT', 'event': 'none', 'CT_mnyinvest': 6420.0, 'CT_buyoption': 'B', 'T_mnyinvest': 4800.0, 'T_buyoption': 'B', 'gamestate': {'ct_mny': 5878.0, 'ct_loss': 3, 't_mny': 2853.0, 't_loss': 2, 't_wins': 9, 'rnds_played': 15}} \n",
      "\n"
     ]
    }
   ],
   "source": [
    "importlib.reload(cs)\n",
    "\n",
    "n_of_1 = cs.half_simulator(eco_rules, starting_gamestate, 1)\n",
    "\n",
    "for i in range(eco_rules['MR']):\n",
    "    print(\"Round \", i, \"- \\n\", n_of_1[0][i], \"\\n\")"
   ]
  },
  {
   "cell_type": "code",
   "execution_count": 72,
   "metadata": {},
   "outputs": [
    {
     "data": {
      "text/html": [
       "<div>\n",
       "<style scoped>\n",
       "    .dataframe tbody tr th:only-of-type {\n",
       "        vertical-align: middle;\n",
       "    }\n",
       "\n",
       "    .dataframe tbody tr th {\n",
       "        vertical-align: top;\n",
       "    }\n",
       "\n",
       "    .dataframe thead th {\n",
       "        text-align: right;\n",
       "    }\n",
       "</style>\n",
       "<table border=\"1\" class=\"dataframe\">\n",
       "  <thead>\n",
       "    <tr style=\"text-align: right;\">\n",
       "      <th></th>\n",
       "      <th>winner</th>\n",
       "      <th>event</th>\n",
       "      <th>CT_mnyinvest</th>\n",
       "      <th>CT_buyoption</th>\n",
       "      <th>T_mnyinvest</th>\n",
       "      <th>T_buyoption</th>\n",
       "      <th>gamestate</th>\n",
       "    </tr>\n",
       "  </thead>\n",
       "  <tbody>\n",
       "    <tr>\n",
       "      <th>0</th>\n",
       "      <td>CT</td>\n",
       "      <td>bomb_plant_force</td>\n",
       "      <td>650.0</td>\n",
       "      <td>F</td>\n",
       "      <td>650.0</td>\n",
       "      <td>F</td>\n",
       "      <td>{'ct_mny': 4094.0, 'ct_loss': 0, 't_mny': 3650...</td>\n",
       "    </tr>\n",
       "    <tr>\n",
       "      <th>1</th>\n",
       "      <td>T</td>\n",
       "      <td>none</td>\n",
       "      <td>0.0</td>\n",
       "      <td>S</td>\n",
       "      <td>3460.0</td>\n",
       "      <td>B</td>\n",
       "      <td>{'ct_mny': 5994.0, 'ct_loss': 1, 't_mny': 4959...</td>\n",
       "    </tr>\n",
       "    <tr>\n",
       "      <th>2</th>\n",
       "      <td>T</td>\n",
       "      <td>bomb_plant</td>\n",
       "      <td>5420.0</td>\n",
       "      <td>B</td>\n",
       "      <td>4800.0</td>\n",
       "      <td>B</td>\n",
       "      <td>{'ct_mny': 4058.0, 'ct_loss': 2, 't_mny': 5022...</td>\n",
       "    </tr>\n",
       "    <tr>\n",
       "      <th>3</th>\n",
       "      <td>T</td>\n",
       "      <td>none</td>\n",
       "      <td>0.0</td>\n",
       "      <td>S</td>\n",
       "      <td>4800.0</td>\n",
       "      <td>B</td>\n",
       "      <td>{'ct_mny': 6958.0, 'ct_loss': 3, 't_mny': 5464...</td>\n",
       "    </tr>\n",
       "    <tr>\n",
       "      <th>4</th>\n",
       "      <td>CT</td>\n",
       "      <td>none</td>\n",
       "      <td>6420.0</td>\n",
       "      <td>B</td>\n",
       "      <td>5210.0</td>\n",
       "      <td>B</td>\n",
       "      <td>{'ct_mny': 6350.0, 'ct_loss': 2, 't_mny': 2354...</td>\n",
       "    </tr>\n",
       "    <tr>\n",
       "      <th>5</th>\n",
       "      <td>CT</td>\n",
       "      <td>none</td>\n",
       "      <td>5420.0</td>\n",
       "      <td>B</td>\n",
       "      <td>0.0</td>\n",
       "      <td>S</td>\n",
       "      <td>{'ct_mny': 8370.0, 'ct_loss': 1, 't_mny': 4754...</td>\n",
       "    </tr>\n",
       "    <tr>\n",
       "      <th>6</th>\n",
       "      <td>T</td>\n",
       "      <td>bomb_plant</td>\n",
       "      <td>6420.0</td>\n",
       "      <td>B</td>\n",
       "      <td>3460.0</td>\n",
       "      <td>B</td>\n",
       "      <td>{'ct_mny': 5634.0, 'ct_loss': 2, 't_mny': 5860...</td>\n",
       "    </tr>\n",
       "    <tr>\n",
       "      <th>7</th>\n",
       "      <td>T</td>\n",
       "      <td>bomb_plant</td>\n",
       "      <td>5420.0</td>\n",
       "      <td>B</td>\n",
       "      <td>5210.0</td>\n",
       "      <td>B</td>\n",
       "      <td>{'ct_mny': 4198.0, 'ct_loss': 3, 't_mny': 5604...</td>\n",
       "    </tr>\n",
       "    <tr>\n",
       "      <th>8</th>\n",
       "      <td>T</td>\n",
       "      <td>none</td>\n",
       "      <td>4100.0</td>\n",
       "      <td>B</td>\n",
       "      <td>5210.0</td>\n",
       "      <td>B</td>\n",
       "      <td>{'ct_mny': 3498.0, 'ct_loss': 4, 't_mny': 5780...</td>\n",
       "    </tr>\n",
       "    <tr>\n",
       "      <th>9</th>\n",
       "      <td>T</td>\n",
       "      <td>none</td>\n",
       "      <td>0.0</td>\n",
       "      <td>S</td>\n",
       "      <td>5210.0</td>\n",
       "      <td>B</td>\n",
       "      <td>{'ct_mny': 7398.0, 'ct_loss': 5, 't_mny': 5956...</td>\n",
       "    </tr>\n",
       "    <tr>\n",
       "      <th>10</th>\n",
       "      <td>T</td>\n",
       "      <td>bomb_plant</td>\n",
       "      <td>6420.0</td>\n",
       "      <td>B</td>\n",
       "      <td>5210.0</td>\n",
       "      <td>B</td>\n",
       "      <td>{'ct_mny': 6162.0, 'ct_loss': 5, 't_mny': 5700...</td>\n",
       "    </tr>\n",
       "    <tr>\n",
       "      <th>11</th>\n",
       "      <td>CT</td>\n",
       "      <td>none</td>\n",
       "      <td>5420.0</td>\n",
       "      <td>B</td>\n",
       "      <td>5210.0</td>\n",
       "      <td>B</td>\n",
       "      <td>{'ct_mny': 6202.0, 'ct_loss': 4, 't_mny': 2590...</td>\n",
       "    </tr>\n",
       "    <tr>\n",
       "      <th>12</th>\n",
       "      <td>CT</td>\n",
       "      <td>none</td>\n",
       "      <td>5420.0</td>\n",
       "      <td>B</td>\n",
       "      <td>0.0</td>\n",
       "      <td>S</td>\n",
       "      <td>{'ct_mny': 8222.0, 'ct_loss': 3, 't_mny': 4990...</td>\n",
       "    </tr>\n",
       "    <tr>\n",
       "      <th>13</th>\n",
       "      <td>T</td>\n",
       "      <td>bomb_plant</td>\n",
       "      <td>6420.0</td>\n",
       "      <td>B</td>\n",
       "      <td>4800.0</td>\n",
       "      <td>B</td>\n",
       "      <td>{'ct_mny': 6486.0, 'ct_loss': 4, 't_mny': 5053...</td>\n",
       "    </tr>\n",
       "    <tr>\n",
       "      <th>14</th>\n",
       "      <td>CT</td>\n",
       "      <td>none</td>\n",
       "      <td>6420.0</td>\n",
       "      <td>B</td>\n",
       "      <td>4800.0</td>\n",
       "      <td>B</td>\n",
       "      <td>{'ct_mny': 5878.0, 'ct_loss': 3, 't_mny': 2853...</td>\n",
       "    </tr>\n",
       "  </tbody>\n",
       "</table>\n",
       "</div>"
      ],
      "text/plain": [
       "   winner             event  CT_mnyinvest CT_buyoption  T_mnyinvest  \\\n",
       "0      CT  bomb_plant_force         650.0            F        650.0   \n",
       "1       T              none           0.0            S       3460.0   \n",
       "2       T        bomb_plant        5420.0            B       4800.0   \n",
       "3       T              none           0.0            S       4800.0   \n",
       "4      CT              none        6420.0            B       5210.0   \n",
       "5      CT              none        5420.0            B          0.0   \n",
       "6       T        bomb_plant        6420.0            B       3460.0   \n",
       "7       T        bomb_plant        5420.0            B       5210.0   \n",
       "8       T              none        4100.0            B       5210.0   \n",
       "9       T              none           0.0            S       5210.0   \n",
       "10      T        bomb_plant        6420.0            B       5210.0   \n",
       "11     CT              none        5420.0            B       5210.0   \n",
       "12     CT              none        5420.0            B          0.0   \n",
       "13      T        bomb_plant        6420.0            B       4800.0   \n",
       "14     CT              none        6420.0            B       4800.0   \n",
       "\n",
       "   T_buyoption                                          gamestate  \n",
       "0            F  {'ct_mny': 4094.0, 'ct_loss': 0, 't_mny': 3650...  \n",
       "1            B  {'ct_mny': 5994.0, 'ct_loss': 1, 't_mny': 4959...  \n",
       "2            B  {'ct_mny': 4058.0, 'ct_loss': 2, 't_mny': 5022...  \n",
       "3            B  {'ct_mny': 6958.0, 'ct_loss': 3, 't_mny': 5464...  \n",
       "4            B  {'ct_mny': 6350.0, 'ct_loss': 2, 't_mny': 2354...  \n",
       "5            S  {'ct_mny': 8370.0, 'ct_loss': 1, 't_mny': 4754...  \n",
       "6            B  {'ct_mny': 5634.0, 'ct_loss': 2, 't_mny': 5860...  \n",
       "7            B  {'ct_mny': 4198.0, 'ct_loss': 3, 't_mny': 5604...  \n",
       "8            B  {'ct_mny': 3498.0, 'ct_loss': 4, 't_mny': 5780...  \n",
       "9            B  {'ct_mny': 7398.0, 'ct_loss': 5, 't_mny': 5956...  \n",
       "10           B  {'ct_mny': 6162.0, 'ct_loss': 5, 't_mny': 5700...  \n",
       "11           B  {'ct_mny': 6202.0, 'ct_loss': 4, 't_mny': 2590...  \n",
       "12           S  {'ct_mny': 8222.0, 'ct_loss': 3, 't_mny': 4990...  \n",
       "13           B  {'ct_mny': 6486.0, 'ct_loss': 4, 't_mny': 5053...  \n",
       "14           B  {'ct_mny': 5878.0, 'ct_loss': 3, 't_mny': 2853...  "
      ]
     },
     "execution_count": 72,
     "metadata": {},
     "output_type": "execute_result"
    }
   ],
   "source": [
    "(pd.DataFrame(n_of_1[0]))"
   ]
  },
  {
   "cell_type": "markdown",
   "metadata": {},
   "source": [
    "## Large-Scale Simulation\n",
    "\n",
    "#### n = 10,000\n",
    "#### Light Visualization Included"
   ]
  },
  {
   "cell_type": "code",
   "execution_count": 65,
   "metadata": {},
   "outputs": [],
   "source": [
    "n = 1000\n",
    "simulation = cs.half_simulator(eco_rules, starting_gamestate, n)\n",
    "\n",
    "pistol_results = []\n",
    "half_results = []\n",
    "round_results = []\n",
    "\n",
    "for i in range(n):\n",
    "    pistol_results.append(simulation[i][0]['winner'] + \" \" + simulation[i][0]['event'])\n",
    "    half_results.append(simulation[i][-1]['gamestate']['t_wins'])\n",
    "    \n",
    "    \n",
    "for j in range(eco_rules['MR']):\n",
    "        round_results.append([simulation[i][j]['winner'] for i in range(n)])"
   ]
  },
  {
   "cell_type": "code",
   "execution_count": 66,
   "metadata": {},
   "outputs": [
    {
     "data": {
      "text/plain": [
       "(array([209.,   0.,   0., 338.,   0.,   0., 351.,   0.,   0., 102.]),\n",
       " array([0. , 0.3, 0.6, 0.9, 1.2, 1.5, 1.8, 2.1, 2.4, 2.7, 3. ]),\n",
       " <a list of 10 Patch objects>)"
      ]
     },
     "execution_count": 66,
     "metadata": {},
     "output_type": "execute_result"
    },
    {
     "data": {
      "image/png": "[encoded data removed]",
      "text/plain": [
       "<Figure size 432x288 with 1 Axes>"
      ]
     },
     "metadata": {
      "needs_background": "light"
     },
     "output_type": "display_data"
    }
   ],
   "source": [
    "plt.hist(pistol_results, color = 'blue', edgecolor = 'black')"
   ]
  },
  {
   "cell_type": "code",
   "execution_count": 67,
   "metadata": {},
   "outputs": [
    {
     "data": {
      "text/plain": [
       "(array([  6.,  14.,  62., 131., 213., 232., 160., 108.,  45.,  29.]),\n",
       " array([ 2. ,  3.1,  4.2,  5.3,  6.4,  7.5,  8.6,  9.7, 10.8, 11.9, 13. ]),\n",
       " <a list of 10 Patch objects>)"
      ]
     },
     "execution_count": 67,
     "metadata": {},
     "output_type": "execute_result"
    },
    {
     "data": {
      "image/png": "[encoded data removed]",
      "text/plain": [
       "<Figure size 432x288 with 1 Axes>"
      ]
     },
     "metadata": {
      "needs_background": "light"
     },
     "output_type": "display_data"
    }
   ],
   "source": [
    "plt.hist(half_results, color = 'red', edgecolor = 'black')"
   ]
  },
  {
   "cell_type": "code",
   "execution_count": 68,
   "metadata": {},
   "outputs": [
    {
     "data": {
      "image/png": "[encoded data removed]",
      "text/plain": [
       "<Figure size 432x288 with 1 Axes>"
      ]
     },
     "metadata": {
      "needs_background": "light"
     },
     "output_type": "display_data"
    },
    {
     "data": {
      "image/png": "[encoded data removed]",
      "text/plain": [
       "<Figure size 432x288 with 1 Axes>"
      ]
     },
     "metadata": {
      "needs_background": "light"
     },
     "output_type": "display_data"
    },
    {
     "data": {
      "image/png": "[encoded data removed]",
      "text/plain": [
       "<Figure size 432x288 with 1 Axes>"
      ]
     },
     "metadata": {
      "needs_background": "light"
     },
     "output_type": "display_data"
    },
    {
     "data": {
      "image/png": "[encoded data removed]",
      "text/plain": [
       "<Figure size 432x288 with 1 Axes>"
      ]
     },
     "metadata": {
      "needs_background": "light"
     },
     "output_type": "display_data"
    },
    {
     "data": {
      "image/png": "[encoded data removed]",
      "text/plain": [
       "<Figure size 432x288 with 1 Axes>"
      ]
     },
     "metadata": {
      "needs_background": "light"
     },
     "output_type": "display_data"
    },
    {
     "data": {
      "image/png": "[encoded data removed]",
      "text/plain": [
       "<Figure size 432x288 with 1 Axes>"
      ]
     },
     "metadata": {
      "needs_background": "light"
     },
     "output_type": "display_data"
    },
    {
     "data": {
      "image/png": "[encoded data removed]",
      "text/plain": [
       "<Figure size 432x288 with 1 Axes>"
      ]
     },
     "metadata": {
      "needs_background": "light"
     },
     "output_type": "display_data"
    },
    {
     "data": {
      "image/png": "[encoded data removed]",
      "text/plain": [
       "<Figure size 432x288 with 1 Axes>"
      ]
     },
     "metadata": {
      "needs_background": "light"
     },
     "output_type": "display_data"
    },
    {
     "data": {
      "image/png": "[encoded data removed]",
      "text/plain": [
       "<Figure size 432x288 with 1 Axes>"
      ]
     },
     "metadata": {
      "needs_background": "light"
     },
     "output_type": "display_data"
    },
    {
     "data": {
      "image/png": "[encoded data removed]",
      "text/plain": [
       "<Figure size 432x288 with 1 Axes>"
      ]
     },
     "metadata": {
      "needs_background": "light"
     },
     "output_type": "display_data"
    },
    {
     "data": {
      "image/png": "[encoded data removed]",
      "text/plain": [
       "<Figure size 432x288 with 1 Axes>"
      ]
     },
     "metadata": {
      "needs_background": "light"
     },
     "output_type": "display_data"
    },
    {
     "data": {
      "image/png": "[encoded data removed]",
      "text/plain": [
       "<Figure size 432x288 with 1 Axes>"
      ]
     },
     "metadata": {
      "needs_background": "light"
     },
     "output_type": "display_data"
    },
    {
     "data": {
      "image/png": "[encoded data removed]",
      "text/plain": [
       "<Figure size 432x288 with 1 Axes>"
      ]
     },
     "metadata": {
      "needs_background": "light"
     },
     "output_type": "display_data"
    },
    {
     "data": {
      "image/png": "[encoded data removed]",
      "text/plain": [
       "<Figure size 432x288 with 1 Axes>"
      ]
     },
     "metadata": {
      "needs_background": "light"
     },
     "output_type": "display_data"
    },
    {
     "data": {
      "image/png": "[encoded data removed]",
      "text/plain": [
       "<Figure size 432x288 with 1 Axes>"
      ]
     },
     "metadata": {
      "needs_background": "light"
     },
     "output_type": "display_data"
    }
   ],
   "source": [
    "for k in range(eco_rules['MR']):\n",
    "    plt.hist(round_results[k], color = 'green', edgecolor = 'black', stacked=False)\n",
    "    plt.show()\n"
   ]
  },
  {
   "cell_type": "code",
   "execution_count": null,
   "metadata": {},
   "outputs": [],
   "source": []
  }
 ],
 "metadata": {
  "kernelspec": {
   "display_name": "Python 3",
   "language": "python",
   "name": "python3"
  },
  "language_info": {
   "codemirror_mode": {
    "name": "ipython",
    "version": 3
   },
   "file_extension": ".py",
   "mimetype": "text/x-python",
   "name": "python",
   "nbconvert_exporter": "python",
   "pygments_lexer": "ipython3",
   "version": "3.7.6"
  }
 },
 "nbformat": 4,
 "nbformat_minor": 4
}
